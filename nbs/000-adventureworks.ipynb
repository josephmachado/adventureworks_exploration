{
 "cells": [
  {
   "cell_type": "markdown",
   "id": "1854fc51-59f5-4de3-ae95-31b6b0b3f29e",
   "metadata": {},
   "source": [
    "# Adventure works data exploration\n"
   ]
  },
  {
   "cell_type": "markdown",
   "id": "1528d805-f067-41c7-8ac1-eeb9938eae19",
   "metadata": {},
   "source": [
    "## Find data source\n",
    "\n",
    "[Reddit link with good references](https://www.reddit.com/r/SQL/comments/1dt3c6e/new_to_sql_and_need_practice_try_the/)"
   ]
  }
 ],
 "metadata": {
  "kernelspec": {
   "display_name": "Python 3 (ipykernel)",
   "language": "python",
   "name": "python3"
  },
  "language_info": {
   "codemirror_mode": {
    "name": "ipython",
    "version": 3
   },
   "file_extension": ".py",
   "mimetype": "text/x-python",
   "name": "python",
   "nbconvert_exporter": "python",
   "pygments_lexer": "ipython3",
   "version": "3.12.4"
  }
 },
 "nbformat": 4,
 "nbformat_minor": 5
}
